{
 "cells": [
  {
   "cell_type": "markdown",
   "id": "1b9286b9",
   "metadata": {},
   "source": [
    "## OPERATORS"
   ]
  },
  {
   "cell_type": "code",
   "execution_count": 3,
   "id": "5165c26f",
   "metadata": {},
   "outputs": [
    {
     "name": "stdout",
     "output_type": "stream",
     "text": [
      "15\n",
      "5\n",
      "50\n",
      "2.0\n",
      "2\n",
      "0\n",
      "100000\n"
     ]
    }
   ],
   "source": [
    "## Arithematic operations\n",
    "\n",
    "a=10\n",
    "b=5\n",
    "\n",
    "add_result= a+b\n",
    "sub_result= a-b\n",
    "mult_result= a*b\n",
    "div_result= a/b\n",
    "floor_div_result = a//b\n",
    "modulus_result = a%b\n",
    "exponential_result = a**b\n",
    "\n",
    "print(add_result)\n",
    "print(sub_result)\n",
    "print(mult_result)\n",
    "print(div_result)\n",
    "print(floor_div_result)\n",
    "print(modulus_result)\n",
    "print(exponential_result)\n",
    "\n"
   ]
  },
  {
   "cell_type": "code",
   "execution_count": 7,
   "id": "b254e6fa",
   "metadata": {},
   "outputs": [
    {
     "data": {
      "text/plain": [
       "True"
      ]
     },
     "execution_count": 7,
     "metadata": {},
     "output_type": "execute_result"
    }
   ],
   "source": [
    "## coparition operators\n",
    "\n",
    "a=10;b=10\n",
    "a==b"
   ]
  },
  {
   "cell_type": "code",
   "execution_count": 8,
   "id": "bf04eab0",
   "metadata": {},
   "outputs": [
    {
     "data": {
      "text/plain": [
       "True"
      ]
     },
     "execution_count": 8,
     "metadata": {},
     "output_type": "execute_result"
    }
   ],
   "source": [
    "str1=\"Ram\"\n",
    "str2=\"Ram\"\n",
    "\n",
    "str1==str2"
   ]
  },
  {
   "cell_type": "code",
   "execution_count": 9,
   "id": "dba742db",
   "metadata": {},
   "outputs": [
    {
     "data": {
      "text/plain": [
       "False"
      ]
     },
     "execution_count": 9,
     "metadata": {},
     "output_type": "execute_result"
    }
   ],
   "source": [
    "## not equal to\n",
    "str1 != str2"
   ]
  },
  {
   "cell_type": "code",
   "execution_count": 13,
   "id": "05c1e394",
   "metadata": {},
   "outputs": [
    {
     "name": "stdout",
     "output_type": "stream",
     "text": [
      "True\n"
     ]
    },
    {
     "data": {
      "text/plain": [
       "False"
      ]
     },
     "execution_count": 13,
     "metadata": {},
     "output_type": "execute_result"
    }
   ],
   "source": [
    "# greater than \n",
    "num1=45;num2=56\n",
    "print(num1 < num2)\n",
    "\n",
    "num1 >= num2"
   ]
  },
  {
   "cell_type": "markdown",
   "id": "260aec63",
   "metadata": {},
   "source": [
    "### logical operators"
   ]
  },
  {
   "cell_type": "code",
   "execution_count": 19,
   "id": "cf37a1d7",
   "metadata": {},
   "outputs": [
    {
     "name": "stdout",
     "output_type": "stream",
     "text": [
      "False True False\n"
     ]
    }
   ],
   "source": [
    "## And, Not, Or\n",
    "\n",
    "x=True\n",
    "y=False\n",
    "\n",
    "result = x and y\n",
    "or_result = x or y\n",
    "nt= not(x)\n",
    "\n",
    "print(result,or_result,nt)"
   ]
  },
  {
   "cell_type": "code",
   "execution_count": null,
   "id": "2e2b6b2a",
   "metadata": {},
   "outputs": [],
   "source": []
  }
 ],
 "metadata": {
  "kernelspec": {
   "display_name": "Python 3",
   "language": "python",
   "name": "python3"
  },
  "language_info": {
   "codemirror_mode": {
    "name": "ipython",
    "version": 3
   },
   "file_extension": ".py",
   "mimetype": "text/x-python",
   "name": "python",
   "nbconvert_exporter": "python",
   "pygments_lexer": "ipython3",
   "version": "3.12.0"
  }
 },
 "nbformat": 4,
 "nbformat_minor": 5
}
