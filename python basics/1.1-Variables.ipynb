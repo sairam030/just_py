{
 "cells": [
  {
   "cell_type": "markdown",
   "id": "08449e19",
   "metadata": {},
   "source": [
    "## Variables\n",
    "\n",
    "Variables are fundamental elements in programming used to store data that can be refrenced and manipulated in a program. In python, variables are created when you assign a value to them, and they do not need explicitt declaration to reserve memory space. The declaration happens automatically when yu assign a value to a variable.\n",
    "\n",
    "Outline:\n",
    "* Intro to variables\n",
    "* Declaring and assigning Variables\n",
    "* naming Conventions \n",
    "* Understanding Variable Types \n",
    "* Type Checking and Conversion\n",
    "* Dynamic typing \n",
    "* practical EX and common Errors"
   ]
  },
  {
   "cell_type": "code",
   "execution_count": 1,
   "id": "7c72cac5",
   "metadata": {},
   "outputs": [],
   "source": [
    "a=100"
   ]
  },
  {
   "cell_type": "code",
   "execution_count": 2,
   "id": "3b68783c",
   "metadata": {},
   "outputs": [
    {
     "name": "stdout",
     "output_type": "stream",
     "text": [
      "age : 24\n",
      "Height : 170\n",
      "Name : Ram\n"
     ]
    }
   ],
   "source": [
    "## Declaring and Assiging Variables\n",
    "\n",
    "age=24\n",
    "height=170\n",
    "name=\"Ram\"\n",
    "is_stu=True\n",
    "\n",
    "## printing the variables \n",
    "\n",
    "print(\"age :\",age)\n",
    "print(\"Height :\",height)\n",
    "print(\"Name :\",name)"
   ]
  },
  {
   "cell_type": "code",
   "execution_count": 5,
   "id": "afb17acd",
   "metadata": {},
   "outputs": [
    {
     "ename": "SyntaxError",
     "evalue": "invalid decimal literal (1036799479.py, line 14)",
     "output_type": "error",
     "traceback": [
      "  \u001b[36mCell\u001b[39m\u001b[36m \u001b[39m\u001b[32mIn[5]\u001b[39m\u001b[32m, line 14\u001b[39m\n\u001b[31m    \u001b[39m\u001b[31m2age=24\u001b[39m\n    ^\n\u001b[31mSyntaxError\u001b[39m\u001b[31m:\u001b[39m invalid decimal literal\n"
     ]
    }
   ],
   "source": [
    "## Naming Conventions\n",
    "\n",
    "## Variable names should be descriptive\n",
    "## They must start with a letter or and '_' and contains letter, numbers and underscores\n",
    "## variables names are case sensitive\n",
    "\n",
    "#valid var names\n",
    "\n",
    "first_name=\"Ram\"\n",
    "last_name=\"sai\"\n",
    "\n",
    "# Invaid var names\n",
    "\n",
    "2age=24\n",
    "first-name=\"ram\"\n",
    "@name=\"Ram\""
   ]
  },
  {
   "cell_type": "code",
   "execution_count": 6,
   "id": "ecba9947",
   "metadata": {},
   "outputs": [],
   "source": [
    "## Understanding Variable Types\n",
    "## PYTHON is dynamically typed -  type of a var is determined at runtime\n",
    "\n",
    "age=24 #int\n",
    "height=6.2 #float\n",
    "name=\"Ram\" #str\n",
    "is_stu = True #bool"
   ]
  },
  {
   "cell_type": "code",
   "execution_count": 7,
   "id": "922c6242",
   "metadata": {},
   "outputs": [
    {
     "data": {
      "text/plain": [
       "float"
      ]
     },
     "execution_count": 7,
     "metadata": {},
     "output_type": "execute_result"
    }
   ],
   "source": [
    "## Type checking and Conversion\n",
    "\n",
    "type(height)"
   ]
  },
  {
   "cell_type": "code",
   "execution_count": 9,
   "id": "63353dba",
   "metadata": {},
   "outputs": [
    {
     "name": "stdout",
     "output_type": "stream",
     "text": [
      "<class 'int'>\n",
      "34\n",
      "<class 'str'>\n"
     ]
    }
   ],
   "source": [
    "age=34\n",
    "print(type(age))\n",
    "\n",
    "#type conversion \n",
    "age_str=str(age)\n",
    "print(age_str)\n",
    "print(type(age_str))"
   ]
  },
  {
   "cell_type": "code",
   "execution_count": 10,
   "id": "a26da2ca",
   "metadata": {},
   "outputs": [
    {
     "name": "stdout",
     "output_type": "stream",
     "text": [
      "10 <class 'int'>\n",
      "Hello <class 'str'>\n",
      "6.12 <class 'float'>\n"
     ]
    }
   ],
   "source": [
    "## Dynamic Typing \n",
    "## Python allows the type of a variable to change as the program executes\n",
    "var=10\n",
    "print(var,type(var))\n",
    "\n",
    "var=\"Hello\"\n",
    "print(var,type(var))\n",
    "\n",
    "var=6.12\n",
    "print(var,type(var))\n"
   ]
  },
  {
   "cell_type": "code",
   "execution_count": null,
   "id": "b7d47789",
   "metadata": {},
   "outputs": [],
   "source": [
    "## INPUT\n",
    "\n",
    "age=input(\"What is the age\")\n",
    "print(age)"
   ]
  },
  {
   "cell_type": "code",
   "execution_count": null,
   "id": "8b8d8dc0",
   "metadata": {},
   "outputs": [],
   "source": []
  }
 ],
 "metadata": {
  "kernelspec": {
   "display_name": "Python 3",
   "language": "python",
   "name": "python3"
  },
  "language_info": {
   "codemirror_mode": {
    "name": "ipython",
    "version": 3
   },
   "file_extension": ".py",
   "mimetype": "text/x-python",
   "name": "python",
   "nbconvert_exporter": "python",
   "pygments_lexer": "ipython3",
   "version": "3.12.0"
  }
 },
 "nbformat": 4,
 "nbformat_minor": 5
}
